{
 "cells": [
  {
   "cell_type": "code",
   "execution_count": 1,
   "id": "697e4648-1745-446e-bb78-44e6e48963e6",
   "metadata": {},
   "outputs": [
    {
     "name": "stdout",
     "output_type": "stream",
     "text": [
      "Hello all welcome to the python programming world!\n"
     ]
    }
   ],
   "source": [
    "print(\"Hello all welcome to the python programming world!\")"
   ]
  },
  {
   "cell_type": "code",
   "execution_count": null,
   "id": "beb46832-db4f-46d1-bad3-3052840f11ee",
   "metadata": {},
   "outputs": [],
   "source": [
    "# shift + enter button on the keyboard "
   ]
  },
  {
   "cell_type": "code",
   "execution_count": null,
   "id": "0c5d4e0c-7b9b-4dc3-b888-d4bb8e967dfa",
   "metadata": {},
   "outputs": [],
   "source": []
  }
 ],
 "metadata": {
  "kernelspec": {
   "display_name": "anaconda-panel-2023.05-py310",
   "language": "python",
   "name": "conda-env-anaconda-panel-2023.05-py310-py"
  },
  "language_info": {
   "codemirror_mode": {
    "name": "ipython",
    "version": 3
   },
   "file_extension": ".py",
   "mimetype": "text/x-python",
   "name": "python",
   "nbconvert_exporter": "python",
   "pygments_lexer": "ipython3",
   "version": "3.11.5"
  }
 },
 "nbformat": 4,
 "nbformat_minor": 5
}
